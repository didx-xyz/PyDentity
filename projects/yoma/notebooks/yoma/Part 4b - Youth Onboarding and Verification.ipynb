{
 "cells": [
  {
   "cell_type": "markdown",
   "metadata": {
    "collapsed": true
   },
   "source": [
    "# YOUTH 1 SUB WALLET"
   ]
  },
  {
   "cell_type": "markdown",
   "metadata": {},
   "source": [
    "## 1. Initialise a controller for Yoma Youth Sub Wallet 1"
   ]
  },
  {
   "cell_type": "code",
   "execution_count": 21,
   "metadata": {},
   "outputs": [
    {
     "name": "stderr",
     "output_type": "stream",
     "text": [
      "Unclosed client session\n",
      "client_session: <aiohttp.client.ClientSession object at 0x7f4bacba24f0>\n"
     ]
    },
    {
     "name": "stdout",
     "output_type": "stream",
     "text": [
      "IPython autoawait is `on`, and set to use `asyncio`\n"
     ]
    }
   ],
   "source": [
    "%autoawait\n",
    "import time\n",
    "import asyncio\n",
    "from termcolor import colored,cprint\n",
    "\n",
    "from aries_basic_controller.aries_controller import AriesAgentController\n",
    "    \n",
    "WEBHOOK_HOST = \"0.0.0.0\"\n",
    "WEBHOOK_PORT = 8022\n",
    "WEBHOOK_BASE = \"\"\n",
    "ADMIN_URL = \"http://yoma-multi-tenant-agent:8021\"\n",
    "\n",
    "# JWT KEY for Youth 1 Sub Wallet\n",
    "%store -r youth1_token\n",
    "\n",
    "# Based on the aca-py agent you wish to control\n",
    "agent_controller = AriesAgentController(webhook_host=WEBHOOK_HOST, webhook_port=WEBHOOK_PORT,\n",
    "                                       webhook_base=WEBHOOK_BASE, admin_url=ADMIN_URL, jwt_token=youth1_token)"
   ]
  },
  {
   "cell_type": "markdown",
   "metadata": {},
   "source": [
    "## 2. Register Listeners\n",
    "\n",
    "The handler should get called every time the controller receives a webhook with the topic issue_credential, printing out the payload. The agent calls to this webhook every time it receives an issue-credential protocol message from a credential."
   ]
  },
  {
   "cell_type": "code",
   "execution_count": 5,
   "metadata": {},
   "outputs": [
    {
     "name": "stderr",
     "output_type": "stream",
     "text": [
      "Task exception was never retrieved\n",
      "future: <Task finished name='Task-7' coro=<AriesAgentController.listen_webhooks() done, defined at /aries_basic_controller/aries_controller.py:140> exception=OSError(98, \"error while attempting to bind on address ('0.0.0.0', 8022): address already in use\")>\n",
      "Traceback (most recent call last):\n",
      "  File \"/aries_basic_controller/aries_controller.py\", line 147, in listen_webhooks\n",
      "    await self.webhook_site.start()\n",
      "  File \"/opt/conda/lib/python3.8/site-packages/aiohttp/web_runner.py\", line 121, in start\n",
      "    self._server = await loop.create_server(\n",
      "  File \"/opt/conda/lib/python3.8/asyncio/base_events.py\", line 1463, in create_server\n",
      "    raise OSError(err.errno, 'error while attempting '\n",
      "OSError: [Errno 98] error while attempting to bind on address ('0.0.0.0', 8022): address already in use\n"
     ]
    }
   ],
   "source": [
    "loop = asyncio.get_event_loop()\n",
    "loop.create_task(agent_controller.listen_webhooks())\n",
    "\n",
    "def cred_handler(payload):\n",
    "    print(\"Handle Credentials\")\n",
    "    exchange_id = payload['credential_exchange_id']\n",
    "    state = payload['state']\n",
    "    role = payload['role']\n",
    "    attributes = payload['credential_proposal_dict']['credential_proposal']['attributes']\n",
    "    print(f\"Credential exchange {exchange_id}, role: {role}, state: {state}\")\n",
    "    print(f\"Offering: {attributes}\")\n",
    "    \n",
    "cred_listener = {\n",
    "    \"topic\": \"issue_credential\",\n",
    "    \"handler\": cred_handler\n",
    "}\n",
    "\n",
    "def connections_handler(payload):\n",
    "    global STATE\n",
    "    connection_id = payload[\"connection_id\"]\n",
    "    print(\"Connection message\", payload, connection_id)\n",
    "    STATE = payload['state']\n",
    "    if STATE == 'active':\n",
    "#         print('Connection {0} changed state to active'.format(connection_id))\n",
    "        print(colored(\"Connection {0} changed state to active\".format(connection_id), \"red\", attrs=[\"bold\"]))\n",
    "\n",
    "\n",
    "connection_listener = {\n",
    "    \"handler\": connections_handler,\n",
    "    \"topic\": \"connections\"\n",
    "}\n",
    "\n",
    "agent_controller.register_listeners([cred_listener,connection_listener], defaults=True)\n"
   ]
  },
  {
   "cell_type": "markdown",
   "metadata": {},
   "source": [
    "## 8a. Check for any existing connections"
   ]
  },
  {
   "cell_type": "code",
   "execution_count": 6,
   "metadata": {},
   "outputs": [
    {
     "name": "stdout",
     "output_type": "stream",
     "text": [
      "EXISTING CONNECTIONS\n"
     ]
    }
   ],
   "source": [
    "# Check for existing connections\n",
    "connection = await agent_controller.connections.get_connections()\n",
    "print(\"EXISTING CONNECTIONS\")\n",
    "for key, value in connection.items():\n",
    "    for item in value:\n",
    "        print('ConnectionID:', item['connection_id'], 'Status:',item['state'])"
   ]
  },
  {
   "cell_type": "markdown",
   "metadata": {},
   "source": [
    "### 8. Paste the invitation from the Alice notebook into the invitation variable here"
   ]
  },
  {
   "cell_type": "code",
   "execution_count": null,
   "metadata": {},
   "outputs": [],
   "source": []
  },
  {
   "cell_type": "code",
   "execution_count": 7,
   "metadata": {},
   "outputs": [],
   "source": [
    "invitation = {'@type': 'did:sov:BzCbsNYhMrjHiqZDTUASHg;spec/connections/1.0/invitation', '@id': '93a80613-1a43-4b25-8600-ccdd9a3777d5', 'label': 'EXTERNAL', 'recipientKeys': ['Dp5tKBouwB36p4p4VvgG1HuSc2qmayHXtFiXWogaWYLH'], 'serviceEndpoint': 'https://24feee5e7d3a.ngrok.io'}"
   ]
  },
  {
   "cell_type": "markdown",
   "metadata": {},
   "source": [
    "### 9. Accept the invitation, then move to Alice's notebook"
   ]
  },
  {
   "cell_type": "code",
   "execution_count": 8,
   "metadata": {},
   "outputs": [
    {
     "name": "stdout",
     "output_type": "stream",
     "text": [
      "Connection {'connection_id': '54d5ec42-3ff3-4388-b03b-8d7229b77820', 'their_role': 'inviter', 'their_label': 'EXTERNAL', 'request_id': '118cffc5-c52c-471b-9427-5de3079a7b07', 'state': 'request', 'invitation_mode': 'once', 'invitation_key': 'Dp5tKBouwB36p4p4VvgG1HuSc2qmayHXtFiXWogaWYLH', 'accept': 'manual', 'my_did': 'Fmi9Wy2tav1kgDTftj7CPz', 'updated_at': '2021-03-11 19:06:55.434345Z', 'created_at': '2021-03-11 19:06:55.363052Z', 'rfc23_state': 'request-sent', 'routing_state': 'none'}\n"
     ]
    }
   ],
   "source": [
    "# Receive Invitation\n",
    "response = await agent_controller.connections.accept_connection(invitation)\n",
    "# Print out accepted Invite and Alice's connection ID\n",
    "print(\"Connection\", response)\n",
    "connection_id = response[\"connection_id\"]\n",
    "STATE = response[\"state\"]"
   ]
  },
  {
   "cell_type": "markdown",
   "metadata": {},
   "source": [
    "### 13. Check if connection state is active\n",
    "\n",
    "It should be if you send a trust ping from Alice's side"
   ]
  },
  {
   "cell_type": "code",
   "execution_count": 9,
   "metadata": {},
   "outputs": [
    {
     "name": "stdout",
     "output_type": "stream",
     "text": [
      "Youth Wallet 1 AGENT CONNECTION\n",
      "{'connection_id': '54d5ec42-3ff3-4388-b03b-8d7229b77820', 'their_role': 'inviter', 'their_label': 'EXTERNAL', 'request_id': '118cffc5-c52c-471b-9427-5de3079a7b07', 'state': 'active', 'invitation_mode': 'once', 'invitation_key': 'Dp5tKBouwB36p4p4VvgG1HuSc2qmayHXtFiXWogaWYLH', 'accept': 'manual', 'my_did': 'Fmi9Wy2tav1kgDTftj7CPz', 'updated_at': '2021-03-11 19:07:00.719104Z', 'created_at': '2021-03-11 19:06:55.363052Z', 'rfc23_state': 'completed', 'their_did': 'Eipg4W4719TFTJAuCXyj5N', 'routing_state': 'none'}\n",
      "State: active\n"
     ]
    }
   ],
   "source": [
    "# Print connection list\n",
    "connection = await agent_controller.connections.get_connection(connection_id)\n",
    "print(\"Youth Wallet 1 AGENT CONNECTION\")\n",
    "print(connection)\n",
    "print(\"State:\", connection[\"state\"])"
   ]
  },
  {
   "cell_type": "markdown",
   "metadata": {},
   "source": [
    "## 8d. Check if established connection is in active state"
   ]
  },
  {
   "cell_type": "code",
   "execution_count": 10,
   "metadata": {},
   "outputs": [
    {
     "name": "stdout",
     "output_type": "stream",
     "text": [
      "\u001b[1m\u001b[35mCurrent state for ConnectionId 54d5ec42-3ff3-4388-b03b-8d7229b77820 is request\u001b[0m\n",
      "\u001b[1m\u001b[33mConnectionId 54d5ec42-3ff3-4388-b03b-8d7229b77820 is not in active state yet\u001b[0m\n",
      "\u001b[1m\u001b[34mTrust ping send to ConnectionId {'thread_id': '9b4418d1-ed87-4043-9462-c869e97c4b4a'} to activate connection\u001b[0m\n",
      "\u001b[1m\u001b[33mConnectionId 54d5ec42-3ff3-4388-b03b-8d7229b77820 is not in active state yet\u001b[0m\n",
      "\u001b[1m\u001b[34mTrust ping send to ConnectionId {'thread_id': '3300a506-db2c-4233-b535-876451243e60'} to activate connection\u001b[0m\n",
      "\u001b[1m\u001b[33mConnectionId 54d5ec42-3ff3-4388-b03b-8d7229b77820 is not in active state yet\u001b[0m\n",
      "\u001b[1m\u001b[34mTrust ping send to ConnectionId {'thread_id': '76b9a9c8-a19a-4c1c-9923-c76bfebb346c'} to activate connection\u001b[0m\n",
      "\u001b[1m\u001b[33mConnectionId 54d5ec42-3ff3-4388-b03b-8d7229b77820 is not in active state yet\u001b[0m\n",
      "\u001b[1m\u001b[34mTrust ping send to ConnectionId {'thread_id': 'e0cb17f7-ab85-4684-9e56-1a3d74f93d2e'} to activate connection\u001b[0m\n",
      "\u001b[1m\u001b[33mConnectionId 54d5ec42-3ff3-4388-b03b-8d7229b77820 is not in active state yet\u001b[0m\n",
      "\u001b[1m\u001b[34mTrust ping send to ConnectionId {'thread_id': 'e425e561-521e-4dd1-abae-0ec78fcd1049'} to activate connection\u001b[0m\n",
      "\u001b[1m\u001b[33mConnectionId 54d5ec42-3ff3-4388-b03b-8d7229b77820 is not in active state yet\u001b[0m\n",
      "\u001b[1m\u001b[34mTrust ping send to ConnectionId {'thread_id': '9978e0e5-ce16-4b1b-9265-cd4491158783'} to activate connection\u001b[0m\n",
      "\u001b[1m\u001b[33mConnectionId 54d5ec42-3ff3-4388-b03b-8d7229b77820 is not in active state yet\u001b[0m\n",
      "\u001b[1m\u001b[34mTrust ping send to ConnectionId {'thread_id': 'd5cac607-abb5-46b3-abe8-57a025798bad'} to activate connection\u001b[0m\n",
      "\u001b[1m\u001b[33mConnectionId 54d5ec42-3ff3-4388-b03b-8d7229b77820 is not in active state yet\u001b[0m\n",
      "\u001b[1m\u001b[34mTrust ping send to ConnectionId {'thread_id': '12c34905-b589-4202-86c4-8b42def48c22'} to activate connection\u001b[0m\n",
      "\u001b[1m\u001b[33mConnectionId 54d5ec42-3ff3-4388-b03b-8d7229b77820 is not in active state yet\u001b[0m\n",
      "\u001b[1m\u001b[34mTrust ping send to ConnectionId {'thread_id': '9aac5388-2b62-4e05-8718-6e52e35657fa'} to activate connection\u001b[0m\n",
      "\u001b[1m\u001b[33mConnectionId 54d5ec42-3ff3-4388-b03b-8d7229b77820 is not in active state yet\u001b[0m\n",
      "\u001b[1m\u001b[34mTrust ping send to ConnectionId {'thread_id': '4788025d-fe75-48a3-ad31-dcec49462466'} to activate connection\u001b[0m\n",
      "\u001b[1m\u001b[33mConnectionId 54d5ec42-3ff3-4388-b03b-8d7229b77820 is not in active state yet\u001b[0m\n",
      "\u001b[1m\u001b[34mTrust ping send to ConnectionId {'thread_id': '32531630-e9ed-47e5-b5ba-e675beefb6ad'} to activate connection\u001b[0m\n",
      "\u001b[1m\u001b[33mConnectionId 54d5ec42-3ff3-4388-b03b-8d7229b77820 is not in active state yet\u001b[0m\n",
      "\u001b[1m\u001b[34mTrust ping send to ConnectionId {'thread_id': '1842ba97-292f-4bdf-bc77-788637847f43'} to activate connection\u001b[0m\n",
      "\u001b[1m\u001b[33mConnectionId 54d5ec42-3ff3-4388-b03b-8d7229b77820 is not in active state yet\u001b[0m\n",
      "\u001b[1m\u001b[34mTrust ping send to ConnectionId {'thread_id': 'aa4d42b0-5905-405d-ad53-37cbe5cff7b6'} to activate connection\u001b[0m\n",
      "\u001b[1m\u001b[33mConnectionId 54d5ec42-3ff3-4388-b03b-8d7229b77820 is not in active state yet\u001b[0m\n",
      "\u001b[1m\u001b[34mTrust ping send to ConnectionId {'thread_id': '3db59e4a-f9e0-4ecd-9aaf-10df9c537503'} to activate connection\u001b[0m\n",
      "\u001b[1m\u001b[33mConnectionId 54d5ec42-3ff3-4388-b03b-8d7229b77820 is not in active state yet\u001b[0m\n"
     ]
    },
    {
     "ename": "CancelledError",
     "evalue": "",
     "output_type": "error",
     "traceback": [
      "\u001b[0;31m---------------------------------------------------------------------------\u001b[0m",
      "\u001b[0;31mCancelledError\u001b[0m                            Traceback (most recent call last)",
      "\u001b[0;32m<ipython-input-10-ecde9295b1e8>\u001b[0m in \u001b[0;36m<module>\u001b[0;34m\u001b[0m\n\u001b[1;32m      6\u001b[0m \u001b[0;31m#     print('ConnectionId {0} is not in active state yet'.format(connection_id))\u001b[0m\u001b[0;34m\u001b[0m\u001b[0;34m\u001b[0m\u001b[0;34m\u001b[0m\u001b[0m\n\u001b[1;32m      7\u001b[0m     \u001b[0mprint\u001b[0m\u001b[0;34m(\u001b[0m\u001b[0mcolored\u001b[0m\u001b[0;34m(\u001b[0m\u001b[0;34m\"ConnectionId {0} is not in active state yet\"\u001b[0m\u001b[0;34m.\u001b[0m\u001b[0mformat\u001b[0m\u001b[0;34m(\u001b[0m\u001b[0mconnection_id\u001b[0m\u001b[0;34m)\u001b[0m\u001b[0;34m,\u001b[0m \u001b[0;34m\"yellow\"\u001b[0m\u001b[0;34m,\u001b[0m \u001b[0mattrs\u001b[0m\u001b[0;34m=\u001b[0m\u001b[0;34m[\u001b[0m\u001b[0;34m\"bold\"\u001b[0m\u001b[0;34m]\u001b[0m\u001b[0;34m)\u001b[0m\u001b[0;34m)\u001b[0m\u001b[0;34m\u001b[0m\u001b[0;34m\u001b[0m\u001b[0m\n\u001b[0;32m----> 8\u001b[0;31m     \u001b[0mtrust_ping\u001b[0m \u001b[0;34m=\u001b[0m \u001b[0;32mawait\u001b[0m \u001b[0magent_controller\u001b[0m\u001b[0;34m.\u001b[0m\u001b[0mmessaging\u001b[0m\u001b[0;34m.\u001b[0m\u001b[0mtrust_ping\u001b[0m\u001b[0;34m(\u001b[0m\u001b[0mconnection_id\u001b[0m\u001b[0;34m,\u001b[0m\u001b[0;34m'hello!'\u001b[0m\u001b[0;34m)\u001b[0m\u001b[0;34m\u001b[0m\u001b[0;34m\u001b[0m\u001b[0m\n\u001b[0m\u001b[1;32m      9\u001b[0m \u001b[0;31m#     print('Trust ping send to ConnectionId {0} to activate connection'.format(trust_ping))\u001b[0m\u001b[0;34m\u001b[0m\u001b[0;34m\u001b[0m\u001b[0;34m\u001b[0m\u001b[0m\n\u001b[1;32m     10\u001b[0m     \u001b[0mprint\u001b[0m\u001b[0;34m(\u001b[0m\u001b[0mcolored\u001b[0m\u001b[0;34m(\u001b[0m\u001b[0;34m\"Trust ping send to ConnectionId {0} to activate connection\"\u001b[0m\u001b[0;34m.\u001b[0m\u001b[0mformat\u001b[0m\u001b[0;34m(\u001b[0m\u001b[0mtrust_ping\u001b[0m\u001b[0;34m)\u001b[0m\u001b[0;34m,\u001b[0m \u001b[0;34m\"blue\"\u001b[0m\u001b[0;34m,\u001b[0m \u001b[0mattrs\u001b[0m\u001b[0;34m=\u001b[0m\u001b[0;34m[\u001b[0m\u001b[0;34m\"bold\"\u001b[0m\u001b[0;34m]\u001b[0m\u001b[0;34m)\u001b[0m\u001b[0;34m)\u001b[0m\u001b[0;34m\u001b[0m\u001b[0;34m\u001b[0m\u001b[0m\n",
      "\u001b[0;32m/aries_basic_controller/controllers/messaging.py\u001b[0m in \u001b[0;36mtrust_ping\u001b[0;34m(self, connection_id, msg)\u001b[0m\n\u001b[1;32m     21\u001b[0m \u001b[0;34m\u001b[0m\u001b[0m\n\u001b[1;32m     22\u001b[0m     \u001b[0;32masync\u001b[0m \u001b[0;32mdef\u001b[0m \u001b[0mtrust_ping\u001b[0m\u001b[0;34m(\u001b[0m\u001b[0mself\u001b[0m\u001b[0;34m,\u001b[0m \u001b[0mconnection_id\u001b[0m\u001b[0;34m:\u001b[0m \u001b[0mstr\u001b[0m\u001b[0;34m,\u001b[0m \u001b[0mmsg\u001b[0m\u001b[0;34m:\u001b[0m \u001b[0mstr\u001b[0m\u001b[0;34m)\u001b[0m\u001b[0;34m:\u001b[0m\u001b[0;34m\u001b[0m\u001b[0;34m\u001b[0m\u001b[0m\n\u001b[0;32m---> 23\u001b[0;31m         \u001b[0mresponse\u001b[0m \u001b[0;34m=\u001b[0m \u001b[0;32mawait\u001b[0m \u001b[0mself\u001b[0m\u001b[0;34m.\u001b[0m\u001b[0madmin_POST\u001b[0m\u001b[0;34m(\u001b[0m\u001b[0;34mf\"/connections/{connection_id}/send-ping\"\u001b[0m\u001b[0;34m,\u001b[0m \u001b[0;34m{\u001b[0m\u001b[0;34m\"content\"\u001b[0m\u001b[0;34m:\u001b[0m \u001b[0mmsg\u001b[0m\u001b[0;34m}\u001b[0m\u001b[0;34m)\u001b[0m\u001b[0;34m\u001b[0m\u001b[0;34m\u001b[0m\u001b[0m\n\u001b[0m\u001b[1;32m     24\u001b[0m         \u001b[0;32mreturn\u001b[0m \u001b[0mresponse\u001b[0m\u001b[0;34m\u001b[0m\u001b[0;34m\u001b[0m\u001b[0m\n",
      "\u001b[0;32m/aries_basic_controller/controllers/base.py\u001b[0m in \u001b[0;36madmin_POST\u001b[0;34m(self, path, json_data, text, params, data)\u001b[0m\n\u001b[1;32m     93\u001b[0m                 \u001b[0;34m(\u001b[0m\u001b[0;34m\" with data: \\n{}\"\u001b[0m\u001b[0;34m.\u001b[0m\u001b[0mformat\u001b[0m\u001b[0;34m(\u001b[0m\u001b[0mrepr_json\u001b[0m\u001b[0;34m(\u001b[0m\u001b[0mjson_data\u001b[0m\u001b[0;34m)\u001b[0m\u001b[0;34m)\u001b[0m \u001b[0;32mif\u001b[0m \u001b[0mjson_data\u001b[0m \u001b[0;32melse\u001b[0m \u001b[0;34m\"\"\u001b[0m\u001b[0;34m)\u001b[0m\u001b[0;34m,\u001b[0m\u001b[0;34m\u001b[0m\u001b[0;34m\u001b[0m\u001b[0m\n\u001b[1;32m     94\u001b[0m             )\n\u001b[0;32m---> 95\u001b[0;31m             \u001b[0mresponse\u001b[0m \u001b[0;34m=\u001b[0m \u001b[0;32mawait\u001b[0m \u001b[0mself\u001b[0m\u001b[0;34m.\u001b[0m\u001b[0madmin_request\u001b[0m\u001b[0;34m(\u001b[0m\u001b[0;34m\"POST\"\u001b[0m\u001b[0;34m,\u001b[0m \u001b[0mpath\u001b[0m\u001b[0;34m,\u001b[0m \u001b[0mjson_data\u001b[0m\u001b[0;34m,\u001b[0m \u001b[0mtext\u001b[0m\u001b[0;34m,\u001b[0m \u001b[0mparams\u001b[0m\u001b[0;34m,\u001b[0m \u001b[0mdata\u001b[0m\u001b[0;34m)\u001b[0m\u001b[0;34m\u001b[0m\u001b[0;34m\u001b[0m\u001b[0m\n\u001b[0m\u001b[1;32m     96\u001b[0m             EVENT_LOGGER.debug(\n\u001b[1;32m     97\u001b[0m                 \u001b[0;34m\"Response from POST %s received: \\n%s\"\u001b[0m\u001b[0;34m,\u001b[0m\u001b[0;34m\u001b[0m\u001b[0;34m\u001b[0m\u001b[0m\n",
      "\u001b[0;32m/aries_basic_controller/controllers/base.py\u001b[0m in \u001b[0;36madmin_request\u001b[0;34m(self, method, path, json_data, text, params, data)\u001b[0m\n\u001b[1;32m     58\u001b[0m     ) -> ClientResponse:\n\u001b[1;32m     59\u001b[0m         \u001b[0mparams\u001b[0m \u001b[0;34m=\u001b[0m \u001b[0;34m{\u001b[0m\u001b[0mk\u001b[0m\u001b[0;34m:\u001b[0m \u001b[0mv\u001b[0m \u001b[0;32mfor\u001b[0m \u001b[0;34m(\u001b[0m\u001b[0mk\u001b[0m\u001b[0;34m,\u001b[0m \u001b[0mv\u001b[0m\u001b[0;34m)\u001b[0m \u001b[0;32min\u001b[0m \u001b[0;34m(\u001b[0m\u001b[0mparams\u001b[0m \u001b[0;32mor\u001b[0m \u001b[0;34m{\u001b[0m\u001b[0;34m}\u001b[0m\u001b[0;34m)\u001b[0m\u001b[0;34m.\u001b[0m\u001b[0mitems\u001b[0m\u001b[0;34m(\u001b[0m\u001b[0;34m)\u001b[0m \u001b[0;32mif\u001b[0m \u001b[0mv\u001b[0m \u001b[0;32mis\u001b[0m \u001b[0;32mnot\u001b[0m \u001b[0;32mNone\u001b[0m\u001b[0;34m}\u001b[0m\u001b[0;34m\u001b[0m\u001b[0;34m\u001b[0m\u001b[0m\n\u001b[0;32m---> 60\u001b[0;31m         async with self.client_session.request(\n\u001b[0m\u001b[1;32m     61\u001b[0m             \u001b[0mmethod\u001b[0m\u001b[0;34m,\u001b[0m \u001b[0mself\u001b[0m\u001b[0;34m.\u001b[0m\u001b[0madmin_url\u001b[0m \u001b[0;34m+\u001b[0m \u001b[0mpath\u001b[0m\u001b[0;34m,\u001b[0m \u001b[0mjson\u001b[0m\u001b[0;34m=\u001b[0m\u001b[0mjson_data\u001b[0m\u001b[0;34m,\u001b[0m \u001b[0mparams\u001b[0m\u001b[0;34m=\u001b[0m\u001b[0mparams\u001b[0m\u001b[0;34m,\u001b[0m \u001b[0mdata\u001b[0m\u001b[0;34m=\u001b[0m\u001b[0mdata\u001b[0m\u001b[0;34m\u001b[0m\u001b[0;34m\u001b[0m\u001b[0m\n\u001b[1;32m     62\u001b[0m         ) as resp:\n",
      "\u001b[0;32m/opt/conda/lib/python3.8/site-packages/aiohttp/client.py\u001b[0m in \u001b[0;36m__aenter__\u001b[0;34m(self)\u001b[0m\n\u001b[1;32m   1115\u001b[0m \u001b[0;34m\u001b[0m\u001b[0m\n\u001b[1;32m   1116\u001b[0m     \u001b[0;32masync\u001b[0m \u001b[0;32mdef\u001b[0m \u001b[0m__aenter__\u001b[0m\u001b[0;34m(\u001b[0m\u001b[0mself\u001b[0m\u001b[0;34m)\u001b[0m \u001b[0;34m->\u001b[0m \u001b[0m_RetType\u001b[0m\u001b[0;34m:\u001b[0m\u001b[0;34m\u001b[0m\u001b[0;34m\u001b[0m\u001b[0m\n\u001b[0;32m-> 1117\u001b[0;31m         \u001b[0mself\u001b[0m\u001b[0;34m.\u001b[0m\u001b[0m_resp\u001b[0m \u001b[0;34m=\u001b[0m \u001b[0;32mawait\u001b[0m \u001b[0mself\u001b[0m\u001b[0;34m.\u001b[0m\u001b[0m_coro\u001b[0m\u001b[0;34m\u001b[0m\u001b[0;34m\u001b[0m\u001b[0m\n\u001b[0m\u001b[1;32m   1118\u001b[0m         \u001b[0;32mreturn\u001b[0m \u001b[0mself\u001b[0m\u001b[0;34m.\u001b[0m\u001b[0m_resp\u001b[0m\u001b[0;34m\u001b[0m\u001b[0;34m\u001b[0m\u001b[0m\n\u001b[1;32m   1119\u001b[0m \u001b[0;34m\u001b[0m\u001b[0m\n",
      "\u001b[0;32m/opt/conda/lib/python3.8/site-packages/aiohttp/client.py\u001b[0m in \u001b[0;36m_request\u001b[0;34m(self, method, str_or_url, params, data, json, cookies, headers, skip_auto_headers, auth, allow_redirects, max_redirects, compress, chunked, expect100, raise_for_status, read_until_eof, proxy, proxy_auth, timeout, verify_ssl, fingerprint, ssl_context, ssl, proxy_headers, trace_request_ctx, read_bufsize)\u001b[0m\n\u001b[1;32m    542\u001b[0m                             \u001b[0mresp\u001b[0m \u001b[0;34m=\u001b[0m \u001b[0;32mawait\u001b[0m \u001b[0mreq\u001b[0m\u001b[0;34m.\u001b[0m\u001b[0msend\u001b[0m\u001b[0;34m(\u001b[0m\u001b[0mconn\u001b[0m\u001b[0;34m)\u001b[0m\u001b[0;34m\u001b[0m\u001b[0;34m\u001b[0m\u001b[0m\n\u001b[1;32m    543\u001b[0m                             \u001b[0;32mtry\u001b[0m\u001b[0;34m:\u001b[0m\u001b[0;34m\u001b[0m\u001b[0;34m\u001b[0m\u001b[0m\n\u001b[0;32m--> 544\u001b[0;31m                                 \u001b[0;32mawait\u001b[0m \u001b[0mresp\u001b[0m\u001b[0;34m.\u001b[0m\u001b[0mstart\u001b[0m\u001b[0;34m(\u001b[0m\u001b[0mconn\u001b[0m\u001b[0;34m)\u001b[0m\u001b[0;34m\u001b[0m\u001b[0;34m\u001b[0m\u001b[0m\n\u001b[0m\u001b[1;32m    545\u001b[0m                             \u001b[0;32mexcept\u001b[0m \u001b[0mBaseException\u001b[0m\u001b[0;34m:\u001b[0m\u001b[0;34m\u001b[0m\u001b[0;34m\u001b[0m\u001b[0m\n\u001b[1;32m    546\u001b[0m                                 \u001b[0mresp\u001b[0m\u001b[0;34m.\u001b[0m\u001b[0mclose\u001b[0m\u001b[0;34m(\u001b[0m\u001b[0;34m)\u001b[0m\u001b[0;34m\u001b[0m\u001b[0;34m\u001b[0m\u001b[0m\n",
      "\u001b[0;32m/opt/conda/lib/python3.8/site-packages/aiohttp/client_reqrep.py\u001b[0m in \u001b[0;36mstart\u001b[0;34m(self, connection)\u001b[0m\n\u001b[1;32m    888\u001b[0m                 \u001b[0;31m# read response\u001b[0m\u001b[0;34m\u001b[0m\u001b[0;34m\u001b[0m\u001b[0;34m\u001b[0m\u001b[0m\n\u001b[1;32m    889\u001b[0m                 \u001b[0;32mtry\u001b[0m\u001b[0;34m:\u001b[0m\u001b[0;34m\u001b[0m\u001b[0;34m\u001b[0m\u001b[0m\n\u001b[0;32m--> 890\u001b[0;31m                     \u001b[0mmessage\u001b[0m\u001b[0;34m,\u001b[0m \u001b[0mpayload\u001b[0m \u001b[0;34m=\u001b[0m \u001b[0;32mawait\u001b[0m \u001b[0mself\u001b[0m\u001b[0;34m.\u001b[0m\u001b[0m_protocol\u001b[0m\u001b[0;34m.\u001b[0m\u001b[0mread\u001b[0m\u001b[0;34m(\u001b[0m\u001b[0;34m)\u001b[0m  \u001b[0;31m# type: ignore\u001b[0m\u001b[0;34m\u001b[0m\u001b[0;34m\u001b[0m\u001b[0m\n\u001b[0m\u001b[1;32m    891\u001b[0m                 \u001b[0;32mexcept\u001b[0m \u001b[0mhttp\u001b[0m\u001b[0;34m.\u001b[0m\u001b[0mHttpProcessingError\u001b[0m \u001b[0;32mas\u001b[0m \u001b[0mexc\u001b[0m\u001b[0;34m:\u001b[0m\u001b[0;34m\u001b[0m\u001b[0;34m\u001b[0m\u001b[0m\n\u001b[1;32m    892\u001b[0m                     raise ClientResponseError(\n",
      "\u001b[0;32m/opt/conda/lib/python3.8/site-packages/aiohttp/streams.py\u001b[0m in \u001b[0;36mread\u001b[0;34m(self)\u001b[0m\n\u001b[1;32m    602\u001b[0m             \u001b[0mself\u001b[0m\u001b[0;34m.\u001b[0m\u001b[0m_waiter\u001b[0m \u001b[0;34m=\u001b[0m \u001b[0mself\u001b[0m\u001b[0;34m.\u001b[0m\u001b[0m_loop\u001b[0m\u001b[0;34m.\u001b[0m\u001b[0mcreate_future\u001b[0m\u001b[0;34m(\u001b[0m\u001b[0;34m)\u001b[0m\u001b[0;34m\u001b[0m\u001b[0;34m\u001b[0m\u001b[0m\n\u001b[1;32m    603\u001b[0m             \u001b[0;32mtry\u001b[0m\u001b[0;34m:\u001b[0m\u001b[0;34m\u001b[0m\u001b[0;34m\u001b[0m\u001b[0m\n\u001b[0;32m--> 604\u001b[0;31m                 \u001b[0;32mawait\u001b[0m \u001b[0mself\u001b[0m\u001b[0;34m.\u001b[0m\u001b[0m_waiter\u001b[0m\u001b[0;34m\u001b[0m\u001b[0;34m\u001b[0m\u001b[0m\n\u001b[0m\u001b[1;32m    605\u001b[0m             \u001b[0;32mexcept\u001b[0m \u001b[0;34m(\u001b[0m\u001b[0masyncio\u001b[0m\u001b[0;34m.\u001b[0m\u001b[0mCancelledError\u001b[0m\u001b[0;34m,\u001b[0m \u001b[0masyncio\u001b[0m\u001b[0;34m.\u001b[0m\u001b[0mTimeoutError\u001b[0m\u001b[0;34m)\u001b[0m\u001b[0;34m:\u001b[0m\u001b[0;34m\u001b[0m\u001b[0;34m\u001b[0m\u001b[0m\n\u001b[1;32m    606\u001b[0m                 \u001b[0mself\u001b[0m\u001b[0;34m.\u001b[0m\u001b[0m_waiter\u001b[0m \u001b[0;34m=\u001b[0m \u001b[0;32mNone\u001b[0m\u001b[0;34m\u001b[0m\u001b[0;34m\u001b[0m\u001b[0m\n",
      "\u001b[0;31mCancelledError\u001b[0m: "
     ]
    }
   ],
   "source": [
    "import time\n",
    "\n",
    "# print('Current state for ConnectionId {} is {}'.format(connection_id,STATE))\n",
    "print(colored(\"Current state for ConnectionId {} is {}\".format(connection_id,STATE), \"magenta\", attrs=[\"bold\"]))\n",
    "while STATE != 'active':\n",
    "#     print('ConnectionId {0} is not in active state yet'.format(connection_id))\n",
    "    print(colored(\"ConnectionId {0} is not in active state yet\".format(connection_id), \"yellow\", attrs=[\"bold\"]))\n",
    "    trust_ping = await agent_controller.messaging.trust_ping(connection_id,'hello!')\n",
    "#     print('Trust ping send to ConnectionId {0} to activate connection'.format(trust_ping))\n",
    "    print(colored(\"Trust ping send to ConnectionId {0} to activate connection\".format(trust_ping), \"blue\", attrs=[\"bold\"]))\n",
    "    time.sleep(5)\n",
    "    \n",
    "# print('ConnectionId: {0} is now active. Continue with notebook'.format(connection_id))\n",
    "print(colored(\"ConnectionId: {0} is now active. Continue with notebook\".format(connection_id), \"green\", attrs=[\"bold\"]))\n"
   ]
  },
  {
   "cell_type": "markdown",
   "metadata": {},
   "source": [
    "## 10. Check Credential Exchange Records\n",
    "\n",
    "The agent will have at least one record if you have run through the issuer notebook up until send credential.\n"
   ]
  },
  {
   "cell_type": "code",
   "execution_count": 24,
   "metadata": {},
   "outputs": [
    {
     "name": "stdout",
     "output_type": "stream",
     "text": [
      "Credential exchange 0dc0115d-615e-4a60-b86b-d00464abfc42, role: holder, state: credential_acked\n",
      "Being offered: [{'name': 'fullname', 'value': 'Lohan Spies'}, {'name': 'mobile', 'value': '0831234567'}, {'name': 'email', 'value': 't@t.com'}]\n"
     ]
    }
   ],
   "source": [
    "response = await agent_controller.issuer.get_records()\n",
    "results = response[\"results\"]\n",
    "if len(results) == 0:\n",
    "    print(\"You need to first send a credential from the issuer notebook (Alice)\")\n",
    "else:\n",
    "    cred_record = results[0]\n",
    "    cred_ex_id = cred_record['credential_exchange_id']\n",
    "    state = cred_record['state']\n",
    "    role = cred_record['role']\n",
    "    attributes = results[0]['credential_proposal_dict']['credential_proposal']['attributes']\n",
    "    print(f\"Credential exchange {cred_ex_id}, role: {role}, state: {state}\")\n",
    "    print(f\"Being offered: {attributes}\")\n",
    "\n"
   ]
  },
  {
   "cell_type": "markdown",
   "metadata": {},
   "source": [
    "## 12. Store the credential\n",
    "\n",
    "Once the issuer has responded to a request by sending the credential, the holder needs to store it to save the credential for later.\n",
    "\n",
    "First check that the credential record is in the credential_received state\n"
   ]
  },
  {
   "cell_type": "code",
   "execution_count": 23,
   "metadata": {},
   "outputs": [
    {
     "name": "stdout",
     "output_type": "stream",
     "text": [
      "Credential exchange 0dc0115d-615e-4a60-b86b-d00464abfc42, role: holder, state: credential_acked\n"
     ]
    }
   ],
   "source": [
    "record = await agent_controller.issuer.get_record_by_id(cred_ex_id)\n",
    "state = record['state']\n",
    "role = record['role']\n",
    "print(f\"Credential exchange {cred_ex_id}, role: {role}, state: {state}\")"
   ]
  },
  {
   "cell_type": "markdown",
   "metadata": {},
   "source": [
    "## 11. End of Tutorial\n",
    "\n",
    "Be sure to terminate the controller so you can run another tutorial."
   ]
  },
  {
   "cell_type": "code",
   "execution_count": 20,
   "metadata": {},
   "outputs": [
    {
     "name": "stdout",
     "output_type": "stream",
     "text": [
      "None\n"
     ]
    }
   ],
   "source": [
    "response = await agent_controller.terminate()\n",
    "print(response)"
   ]
  },
  {
   "cell_type": "markdown",
   "metadata": {},
   "source": [
    "# Proceed to Part 4 on [Verifier Notebook](http://localhost:8889/notebooks/Part%204%20-%20Verify%20a%20Presentation.ipynb)\n",
    "\n",
    "Here you will present the attributes issued to you within this tutorial to a verifying entity."
   ]
  },
  {
   "cell_type": "code",
   "execution_count": null,
   "metadata": {},
   "outputs": [],
   "source": []
  }
 ],
 "metadata": {
  "kernelspec": {
   "display_name": "Python 3",
   "language": "python",
   "name": "python3"
  },
  "language_info": {
   "codemirror_mode": {
    "name": "ipython",
    "version": 3
   },
   "file_extension": ".py",
   "mimetype": "text/x-python",
   "name": "python",
   "nbconvert_exporter": "python",
   "pygments_lexer": "ipython3",
   "version": "3.8.5"
  }
 },
 "nbformat": 4,
 "nbformat_minor": 1
}
