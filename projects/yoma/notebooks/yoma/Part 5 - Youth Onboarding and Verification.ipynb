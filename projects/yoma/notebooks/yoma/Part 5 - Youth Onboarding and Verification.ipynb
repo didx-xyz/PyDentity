{
 "cells": [
  {
   "cell_type": "markdown",
   "metadata": {
    "collapsed": true
   },
   "source": [
    "# Part 5 - Youth Sub Wallet Management"
   ]
  },
  {
   "cell_type": "markdown",
   "metadata": {},
   "source": [
    "## 1. Initialise a controller for Yoma Youth Sub Wallet 1"
   ]
  },
  {
   "cell_type": "code",
   "execution_count": 1,
   "metadata": {},
   "outputs": [
    {
     "name": "stderr",
     "output_type": "stream",
     "text": [
      "Unclosed client session\n",
      "client_session: <aiohttp.client.ClientSession object at 0x7fb25c385790>\n"
     ]
    },
    {
     "name": "stdout",
     "output_type": "stream",
     "text": [
      "IPython autoawait is `on`, and set to use `asyncio`\n"
     ]
    }
   ],
   "source": [
    "%autoawait\n",
    "import time\n",
    "import asyncio\n",
    "from termcolor import colored,cprint\n",
    "\n",
    "from aries_basic_controller.aries_controller import AriesAgentController\n",
    "    \n",
    "WEBHOOK_HOST = \"0.0.0.0\"\n",
    "WEBHOOK_PORT = 8022\n",
    "WEBHOOK_BASE = \"\"\n",
    "ADMIN_URL = \"http://yoma-multi-tenant-agent:8021\"\n",
    "\n",
    "# JWT KEY for Youth 1 Sub Wallet\n",
    "%store -r youth1_token\n",
    "\n",
    "# Based on the aca-py agent you wish to control\n",
    "agent_controller = AriesAgentController(webhook_host=WEBHOOK_HOST, webhook_port=WEBHOOK_PORT,\n",
    "                                       webhook_base=WEBHOOK_BASE, admin_url=ADMIN_URL, jwt_token=youth1_token)"
   ]
  },
  {
   "cell_type": "markdown",
   "metadata": {},
   "source": [
    "## 2. Register Listeners\n",
    "\n",
    "The handler should get called every time the controller receives a webhook with the topic issue_credential, printing out the payload. The agent calls to this webhook every time it receives an issue-credential protocol message from a credential."
   ]
  },
  {
   "cell_type": "code",
   "execution_count": 2,
   "metadata": {},
   "outputs": [],
   "source": [
    "loop = asyncio.get_event_loop()\n",
    "loop.create_task(agent_controller.listen_webhooks())\n",
    "\n",
    "def cred_handler(payload):\n",
    "    print(\"Handle Credentials\")\n",
    "    exchange_id = payload['credential_exchange_id']\n",
    "    state = payload['state']\n",
    "    role = payload['role']\n",
    "    attributes = payload['credential_proposal_dict']['credential_proposal']['attributes']\n",
    "    print(f\"Credential exchange {exchange_id}, role: {role}, state: {state}\")\n",
    "    print(f\"Offering: {attributes}\")\n",
    "    \n",
    "cred_listener = {\n",
    "    \"topic\": \"issue_credential\",\n",
    "    \"handler\": cred_handler\n",
    "}\n",
    "\n",
    "def connections_handler(payload):\n",
    "    global STATE\n",
    "    connection_id = payload[\"connection_id\"]\n",
    "    print(\"Connection message\", payload, connection_id)\n",
    "    STATE = payload['state']\n",
    "    if STATE == 'active':\n",
    "#         print('Connection {0} changed state to active'.format(connection_id))\n",
    "        print(colored(\"Connection {0} changed state to active\".format(connection_id), \"red\", attrs=[\"bold\"]))\n",
    "\n",
    "\n",
    "connection_listener = {\n",
    "    \"handler\": connections_handler,\n",
    "    \"topic\": \"connections\"\n",
    "}\n",
    "\n",
    "agent_controller.register_listeners([cred_listener,connection_listener], defaults=True)\n"
   ]
  },
  {
   "cell_type": "markdown",
   "metadata": {},
   "source": [
    "## 8a. Check for any existing connections"
   ]
  },
  {
   "cell_type": "code",
   "execution_count": 3,
   "metadata": {},
   "outputs": [
    {
     "name": "stdout",
     "output_type": "stream",
     "text": [
      "EXISTING CONNECTIONS\n"
     ]
    }
   ],
   "source": [
    "# Check for existing connections\n",
    "connection = await agent_controller.connections.get_connections()\n",
    "print(\"EXISTING CONNECTIONS\")\n",
    "for key, value in connection.items():\n",
    "    for item in value:\n",
    "        print('ConnectionID:', item['connection_id'], 'Status:',item['state'])"
   ]
  },
  {
   "cell_type": "markdown",
   "metadata": {},
   "source": [
    "### 8. Paste the invitation from the Yoma Agent Issuer notebook into the invitation variable here"
   ]
  },
  {
   "cell_type": "code",
   "execution_count": 4,
   "metadata": {},
   "outputs": [],
   "source": [
    "invitation = {'@type': 'did:sov:BzCbsNYhMrjHiqZDTUASHg;spec/connections/1.0/invitation', '@id': '28cd68f5-efa9-40d2-9e35-48e4b2b8bb9a', 'label': 'EXTERNAL', 'serviceEndpoint': 'https://cefae0076989.ngrok.io', 'recipientKeys': ['9LJfrZayMeD3FwCZiLBav6qsspgJZK8uT8Gf3xrptigW']}"
   ]
  },
  {
   "cell_type": "markdown",
   "metadata": {},
   "source": [
    "### 9. Accept the invitation, then move to [Yoma Agent Issuer notebook](http://localhost:8888/notebooks/Part%204%20-%20Yoma%20Agent%20Credential%20Issuance.ipynb)"
   ]
  },
  {
   "cell_type": "code",
   "execution_count": 5,
   "metadata": {},
   "outputs": [
    {
     "name": "stdout",
     "output_type": "stream",
     "text": [
      "Connection {'created_at': '2021-03-16 15:29:36.698467Z', 'invitation_mode': 'once', 'connection_id': '98e7a2a3-80d9-4dad-9efa-136e034f4982', 'routing_state': 'none', 'updated_at': '2021-03-16 15:29:36.762806Z', 'my_did': 'QkYewzpU8qMDf2VsPWZRp2', 'state': 'request', 'invitation_key': '9LJfrZayMeD3FwCZiLBav6qsspgJZK8uT8Gf3xrptigW', 'request_id': '360c3041-edf8-46cb-927e-31357d2ae02b', 'accept': 'manual', 'their_role': 'inviter', 'their_label': 'EXTERNAL', 'rfc23_state': 'request-sent'}\n"
     ]
    }
   ],
   "source": [
    "# Receive Invitation\n",
    "response = await agent_controller.connections.accept_connection(invitation)\n",
    "# Print out accepted Invite and Alice's connection ID\n",
    "print(\"Connection\", response)\n",
    "connection_id = response[\"connection_id\"]\n",
    "STATE = response[\"state\"]"
   ]
  },
  {
   "cell_type": "markdown",
   "metadata": {},
   "source": [
    "### 13. Check if connection state is active\n",
    "\n",
    "It should be if you send a trust ping from Alice's side"
   ]
  },
  {
   "cell_type": "code",
   "execution_count": 6,
   "metadata": {},
   "outputs": [
    {
     "name": "stdout",
     "output_type": "stream",
     "text": [
      "Youth Wallet 1 AGENT CONNECTION\n",
      "{'created_at': '2021-03-16 15:29:36.698467Z', 'invitation_mode': 'once', 'connection_id': '98e7a2a3-80d9-4dad-9efa-136e034f4982', 'routing_state': 'none', 'updated_at': '2021-03-16 15:29:40.091954Z', 'my_did': 'QkYewzpU8qMDf2VsPWZRp2', 'state': 'active', 'invitation_key': '9LJfrZayMeD3FwCZiLBav6qsspgJZK8uT8Gf3xrptigW', 'request_id': '360c3041-edf8-46cb-927e-31357d2ae02b', 'accept': 'manual', 'their_role': 'inviter', 'their_label': 'EXTERNAL', 'rfc23_state': 'completed', 'their_did': 'Sdw8onVcs7QsroeU4Yy9TG'}\n",
      "State: active\n"
     ]
    }
   ],
   "source": [
    "# Print connection list\n",
    "connection = await agent_controller.connections.get_connection(connection_id)\n",
    "print(\"Youth Wallet 1 AGENT CONNECTION\")\n",
    "print(connection)\n",
    "print(\"State:\", connection[\"state\"])"
   ]
  },
  {
   "cell_type": "markdown",
   "metadata": {},
   "source": [
    "## 10. Check Credential Exchange Records\n",
    "\n",
    "The agent will have at least one record if you have run through the issuer notebook up until send credential.\n"
   ]
  },
  {
   "cell_type": "code",
   "execution_count": 7,
   "metadata": {},
   "outputs": [
    {
     "name": "stdout",
     "output_type": "stream",
     "text": [
      "Credential exchange a812cbaf-ed13-4d04-9dfd-8ced099172e4, role: holder, state: request_sent\n",
      "Being offered: [{'name': 'fullname', 'value': 'Lohan Spies'}, {'name': 'mobile', 'value': '0832582698'}, {'name': 'email', 'value': 'eax@eax.co.za'}]\n"
     ]
    }
   ],
   "source": [
    "response = await agent_controller.issuer.get_records()\n",
    "results = response[\"results\"]\n",
    "if len(results) == 0:\n",
    "    print(\"You need to first send a credential from the issuer notebook (Alice)\")\n",
    "else:\n",
    "    cred_record = results[0]\n",
    "    cred_ex_id = cred_record['credential_exchange_id']\n",
    "    state = cred_record['state']\n",
    "    role = cred_record['role']\n",
    "    attributes = results[0]['credential_proposal_dict']['credential_proposal']['attributes']\n",
    "    print(f\"Credential exchange {cred_ex_id}, role: {role}, state: {state}\")\n",
    "    print(f\"Being offered: {attributes}\")\n",
    "\n"
   ]
  },
  {
   "cell_type": "markdown",
   "metadata": {},
   "source": [
    "## 12. Store the credential\n",
    "\n",
    "Once the issuer has responded to a request by sending the credential, the holder needs to store it to save the credential for later.\n",
    "\n",
    "First check that the credential record is in the credential_received state\n"
   ]
  },
  {
   "cell_type": "code",
   "execution_count": 8,
   "metadata": {},
   "outputs": [
    {
     "name": "stdout",
     "output_type": "stream",
     "text": [
      "Credential exchange a812cbaf-ed13-4d04-9dfd-8ced099172e4, role: holder, state: credential_acked\n"
     ]
    }
   ],
   "source": [
    "record = await agent_controller.issuer.get_record_by_id(cred_ex_id)\n",
    "state = record['state']\n",
    "role = record['role']\n",
    "print(f\"Credential exchange {cred_ex_id}, role: {role}, state: {state}\")"
   ]
  },
  {
   "cell_type": "markdown",
   "metadata": {},
   "source": [
    "## 11. End of Tutorial\n",
    "\n",
    "Be sure to terminate the controller so you can run another tutorial."
   ]
  },
  {
   "cell_type": "code",
   "execution_count": 9,
   "metadata": {},
   "outputs": [
    {
     "name": "stdout",
     "output_type": "stream",
     "text": [
      "None\n"
     ]
    }
   ],
   "source": [
    "response = await agent_controller.terminate()\n",
    "print(response)"
   ]
  },
  {
   "cell_type": "markdown",
   "metadata": {},
   "source": [
    "# Proceed to Part 6 on [Opportunity Provider Onboarding notebook](http://localhost:8888/notebooks/Part%206%20-%20Yoma%20Opportunity%20Provider%20Onboarding%20and%20Verification.ipynb)\n",
    "\n",
    "Here you will present the attributes issued to you within this tutorial to a verifying entity."
   ]
  },
  {
   "cell_type": "code",
   "execution_count": null,
   "metadata": {},
   "outputs": [],
   "source": []
  }
 ],
 "metadata": {
  "kernelspec": {
   "display_name": "Python 3",
   "language": "python",
   "name": "python3"
  },
  "language_info": {
   "codemirror_mode": {
    "name": "ipython",
    "version": 3
   },
   "file_extension": ".py",
   "mimetype": "text/x-python",
   "name": "python",
   "nbconvert_exporter": "python",
   "pygments_lexer": "ipython3",
   "version": "3.8.5"
  }
 },
 "nbformat": 4,
 "nbformat_minor": 1
}
