{
 "cells": [
  {
   "cell_type": "markdown",
   "metadata": {
    "collapsed": true
   },
   "source": [
    "# YOMA ISSUER AGENT"
   ]
  },
  {
   "cell_type": "markdown",
   "metadata": {},
   "source": [
    "## 1. Initialise a controller for Issuer"
   ]
  },
  {
   "cell_type": "code",
   "execution_count": 1,
   "metadata": {},
   "outputs": [
    {
     "name": "stderr",
     "output_type": "stream",
     "text": [
      "Unclosed client session\n",
      "client_session: <aiohttp.client.ClientSession object at 0x7fb930134850>\n"
     ]
    },
    {
     "name": "stdout",
     "output_type": "stream",
     "text": [
      "IPython autoawait is `on`, and set to use `asyncio`\n"
     ]
    }
   ],
   "source": [
    "%autoawait\n",
    "import time\n",
    "import asyncio\n",
    "from termcolor import colored,cprint\n",
    "\n",
    "from aries_basic_controller.aries_controller import AriesAgentController\n",
    "    \n",
    "WEBHOOK_HOST = \"0.0.0.0\"\n",
    "WEBHOOK_PORT = 8052\n",
    "WEBHOOK_BASE = \"\"\n",
    "ADMIN_URL = \"http://yoma-agent:8051\"\n",
    "\n",
    "# Based on the aca-py agent you wish to control\n",
    "agent_controller = AriesAgentController(webhook_host=WEBHOOK_HOST, webhook_port=WEBHOOK_PORT,\n",
    "                                       webhook_base=WEBHOOK_BASE, admin_url=ADMIN_URL)\n",
    "    "
   ]
  },
  {
   "cell_type": "markdown",
   "metadata": {},
   "source": [
    "## 2. Register Listeners\n",
    "\n",
    "The handler should get called every time the controller receives a webhook with the topic issue_credential, printing out the payload. The agent calls to this webhook every time it receives an issue-credential protocol message from a credential."
   ]
  },
  {
   "cell_type": "code",
   "execution_count": 2,
   "metadata": {},
   "outputs": [],
   "source": [
    "loop = asyncio.get_event_loop()\n",
    "loop.create_task(agent_controller.listen_webhooks())\n",
    "\n",
    "def cred_handler(payload):\n",
    "    print(\"Handle Credentials\")\n",
    "    exchange_id = payload['credential_exchange_id']\n",
    "    state = payload['state']\n",
    "    role = payload['role']\n",
    "    attributes = payload['credential_proposal_dict']['credential_proposal']['attributes']\n",
    "    print(f\"Credential exchange {exchange_id}, role: {role}, state: {state}\")\n",
    "    print(f\"Offering: {attributes}\")\n",
    "    \n",
    "cred_listener = {\n",
    "    \"topic\": \"issue_credential\",\n",
    "    \"handler\": cred_handler\n",
    "}\n",
    "\n",
    "def connections_handler(payload):\n",
    "    global STATE\n",
    "    connection_id = payload[\"connection_id\"]\n",
    "    print(\"Connection message\", payload, connection_id)\n",
    "    STATE = payload['state']\n",
    "    if STATE == 'active':\n",
    "#         print('Connection {0} changed state to active'.format(connection_id))\n",
    "        print(colored(\"Connection {0} changed state to active\".format(connection_id), \"red\", attrs=[\"bold\"]))\n",
    "\n",
    "\n",
    "connection_listener = {\n",
    "    \"handler\": connections_handler,\n",
    "    \"topic\": \"connections\"\n",
    "}\n",
    "\n",
    "agent_controller.register_listeners([cred_listener,connection_listener], defaults=True)\n"
   ]
  },
  {
   "cell_type": "markdown",
   "metadata": {},
   "source": [
    "## 3a. Use a previously written schema"
   ]
  },
  {
   "cell_type": "code",
   "execution_count": 6,
   "metadata": {},
   "outputs": [],
   "source": [
    "schema_id = '3pMbbpqEEGzSQkV79jGmDH:2:Youth Member:0.0.1'"
   ]
  },
  {
   "cell_type": "code",
   "execution_count": 22,
   "metadata": {},
   "outputs": [],
   "source": [
    "schema_id = '3pMbbpqEEGzSQkV79jGmDH:2:Ecosystem Member:0.0.1'"
   ]
  },
  {
   "cell_type": "markdown",
   "metadata": {},
   "source": [
    "## 3b. (OPTIONAL) Write a Schema to the Ledger\n",
    "\n",
    "For more details see the [schema-api notebook](http://localhost:8888/notebooks/schema_api.ipynb)\n",
    "\n",
    "**Note: You will only be able to do this once unless you change the schema_name or version. Once you have a schema written to the ledger it can be reused by multiple entities**"
   ]
  },
  {
   "cell_type": "code",
   "execution_count": 6,
   "metadata": {},
   "outputs": [
    {
     "name": "stdout",
     "output_type": "stream",
     "text": [
      "3pMbbpqEEGzSQkV79jGmDH:2:Youth Member:0.0.1\n"
     ]
    }
   ],
   "source": [
    "# Define you schema name - must be unique on the ledger\n",
    "schema_name = \"Youth Member\"\n",
    "# Can version the schema if you wish to update it\n",
    "schema_version = \"0.0.1\"\n",
    "# Define any list of attributes you wish to include in your schema\n",
    "attributes = [\"fullname\", \"mobile\", \"email\"]\n",
    "\n",
    "response = await agent_controller.schema.write_schema(schema_name, attributes, schema_version)\n",
    "schema_id = response[\"schema_id\"]\n",
    "print(schema_id)"
   ]
  },
  {
   "cell_type": "code",
   "execution_count": 23,
   "metadata": {},
   "outputs": [
    {
     "name": "stdout",
     "output_type": "stream",
     "text": [
      "FPHUv7MUTAb3qXXdu5STCt:2:Ecosystem Member:0.0.1\n"
     ]
    }
   ],
   "source": [
    "# Define you schema name - must be unique on the ledger\n",
    "schema_name = \"Ecosystem Member\"\n",
    "# Can version the schema if you wish to update it\n",
    "schema_version = \"0.0.1\"\n",
    "# Define any list of attributes you wish to include in your schema\n",
    "attributes = [\"orgname\", \"op_type\", \"url\"]\n",
    "\n",
    "response = await agent_controller.schema.write_schema(schema_name, attributes, schema_version)\n",
    "schema_id = response[\"schema_id\"]\n",
    "print(schema_id)\n"
   ]
  },
  {
   "cell_type": "markdown",
   "metadata": {},
   "source": [
    "## 4. Write a Credential Definition to the Ledger\n",
    "\n",
    "**Note: Again this can only be done once per issuer, per schema_id.**"
   ]
  },
  {
   "cell_type": "code",
   "execution_count": 24,
   "metadata": {},
   "outputs": [
    {
     "name": "stdout",
     "output_type": "stream",
     "text": [
      "FPHUv7MUTAb3qXXdu5STCt:3:CL:193375:default\n"
     ]
    }
   ],
   "source": [
    "response = await agent_controller.definitions.write_cred_def(schema_id)\n",
    "\n",
    "cred_def_id = response[\"credential_definition_id\"]\n",
    "print(cred_def_id)"
   ]
  },
  {
   "cell_type": "markdown",
   "metadata": {},
   "source": [
    "**Note: You should be able to see both schema and definition transactions on Sovrin Stagingnet network with [Indyscan](https://indyscan.io/home/SOVRIN_STAGINGNET)**"
   ]
  },
  {
   "cell_type": "markdown",
   "metadata": {},
   "source": [
    "## 5. Populate the Attribues to Issue to Idenity Holder (User)\n",
    "\n",
    "We will issue a credential to the identity holder consisting of the following attributes:\n",
    "\n",
    "credential_attributes = [\n",
    "    {\"name\": \"fullname\", \"value\": name},\n",
    "    {\"name\": \"skill\", \"value\": \"PyDentity SSI Ninja\"},\n",
    "    {\"name\": \"age\", \"value\": age}\n",
    "]\n",
    "\n",
    "The notebook will ask you to input the identity holder's full name and age which will be used to populate the schema above with the identity holders attribute information."
   ]
  },
  {
   "cell_type": "code",
   "execution_count": 8,
   "metadata": {},
   "outputs": [
    {
     "name": "stdout",
     "output_type": "stream",
     "text": [
      "Please enter your name and surname: Lohan Spies\n",
      "Please enter your mobile number: 0831234567\n",
      "Please enter your email number: t@t.com\n",
      "[{'name': 'fullname', 'value': 'Lohan Spies'}, {'name': 'mobile', 'value': '0831234567'}, {'name': 'email', 'value': 't@t.com'}]\n"
     ]
    }
   ],
   "source": [
    "name=input(\"Please enter your name and surname: \")\n",
    "mobile=input(\"Please enter your mobile number: \")\n",
    "email=input(\"Please enter your email number: \")\n",
    "credential_attributes = [\n",
    "    {\"name\": \"fullname\", \"value\": name},\n",
    "    {\"name\": \"mobile\", \"value\": mobile},\n",
    "    {\"name\": \"email\", \"value\": email}\n",
    "]\n",
    "print(credential_attributes)"
   ]
  },
  {
   "cell_type": "code",
   "execution_count": 25,
   "metadata": {},
   "outputs": [
    {
     "name": "stdout",
     "output_type": "stream",
     "text": [
      "Please enter your organisation name: DIDx\n",
      "Please enter your Opportunity Provider type [learning,earning, impact]: learning\n",
      "Please enter organisation url: www.didx.co.za\n",
      "[{'name': 'orgname', 'value': 'DIDx'}, {'name': 'op_type', 'value': 'learning'}, {'name': 'url', 'value': 'www.didx.co.za'}]\n"
     ]
    }
   ],
   "source": [
    "orgname=input(\"Please enter your organisation name: \")\n",
    "op_type=input(\"Please enter your Opportunity Provider type [learning,earning, impact]: \")\n",
    "url=input(\"Please enter organisation url: \")\n",
    "\n",
    "credential_attributes = [\n",
    "    {\"name\": \"orgname\", \"value\": orgname},\n",
    "    {\"name\": \"op_type\", \"value\": op_type},\n",
    "    {\"name\": \"url\", \"value\": url}\n",
    "]\n",
    "print(credential_attributes)"
   ]
  },
  {
   "cell_type": "markdown",
   "metadata": {},
   "source": [
    "## 7. Download Identity Holder Mobile SSI Wallet\n",
    "Please download a mobile SSI wallet such as [Connect.me](https://connect.me/), [Trinsic](https://trinsic.id/trinsic-wallet/) or any other Aries compatible wallet."
   ]
  },
  {
   "cell_type": "markdown",
   "metadata": {},
   "source": [
    "## 8. Create a connection invitation to scan with the Mobile SSI Wallet\n",
    "\n",
    "To make a connection with an identity holders wallet we must create a connection invitation and present the QR code to be scanned by the identity holders wallet. The identity holder scan this QR code and then communicate back to the agent through the exposed ngrok endpoint.\n",
    "\n",
    "Once a connection is in an active state, the agent and the identity holders mobile wallet now have a secure pairwise relationship over which they can exchange verifiable credentials."
   ]
  },
  {
   "cell_type": "markdown",
   "metadata": {},
   "source": [
    "## 8a. Check for any existing connections"
   ]
  },
  {
   "cell_type": "code",
   "execution_count": 19,
   "metadata": {},
   "outputs": [
    {
     "name": "stdout",
     "output_type": "stream",
     "text": [
      "EXISTING CONNECTIONS\n",
      "ConnectionID: b0b99d5a-0f68-4fb0-9cea-45ff460ad4a6 Status: active\n",
      "ConnectionID: 961f9af8-c9ed-4fc4-9866-6b00d48fdaa8 Status: active\n",
      "ConnectionID: fab3272b-1484-4d0f-a534-6419dcc2e050 Status: invitation\n",
      "ConnectionID: 3abfbc78-465b-48b5-94d5-ddce177de6ab Status: invitation\n",
      "ConnectionID: 5e8b94fb-d64d-4ff6-86b8-ef6929962b24 Status: invitation\n"
     ]
    }
   ],
   "source": [
    "# Check for existing connections\n",
    "connection = await agent_controller.connections.get_connections()\n",
    "print(\"EXISTING CONNECTIONS\")\n",
    "for key, value in connection.items():\n",
    "    for item in value:\n",
    "        print('ConnectionID:', item['connection_id'], 'Status:',item['state'])"
   ]
  },
  {
   "cell_type": "markdown",
   "metadata": {},
   "source": [
    "## 8b. Create an Invitation"
   ]
  },
  {
   "cell_type": "code",
   "execution_count": 27,
   "metadata": {},
   "outputs": [
    {
     "name": "stdout",
     "output_type": "stream",
     "text": [
      "Connection message {'invitation_key': 'AsysiWE8yoLSrnhkuFGjqiBSr46UCiWLU9NnxC7dmuso', 'their_role': 'invitee', 'accept': 'auto', 'invitation_mode': 'once', 'created_at': '2021-03-11 19:23:46.917409Z', 'routing_state': 'none', 'rfc23_state': 'invitation-sent', 'state': 'invitation', 'updated_at': '2021-03-11 19:23:46.917409Z', 'connection_id': 'ddf44da2-4da9-4dc9-a5d5-3e765f43e63b'} ddf44da2-4da9-4dc9-a5d5-3e765f43e63b\n",
      "Connection message {'invitation_key': 'AsysiWE8yoLSrnhkuFGjqiBSr46UCiWLU9NnxC7dmuso', 'their_role': 'invitee', 'accept': 'auto', 'invitation_mode': 'once', 'created_at': '2021-03-11 19:23:46.917409Z', 'routing_state': 'none', 'rfc23_state': 'invitation-sent', 'state': 'invitation', 'updated_at': '2021-03-11 19:23:46.917409Z', 'connection_id': 'ddf44da2-4da9-4dc9-a5d5-3e765f43e63b'} ddf44da2-4da9-4dc9-a5d5-3e765f43e63b\n",
      "Connection ID ddf44da2-4da9-4dc9-a5d5-3e765f43e63b\n",
      "Invitation\n",
      "https://24feee5e7d3a.ngrok.io?c_i=eyJAdHlwZSI6ICJkaWQ6c292OkJ6Q2JzTlloTXJqSGlxWkRUVUFTSGc7c3BlYy9jb25uZWN0aW9ucy8xLjAvaW52aXRhdGlvbiIsICJAaWQiOiAiODQxNTk4ODctZjc3ZC00NmIzLTk1MDAtMWQzZTQ0MjcyNmI5IiwgImxhYmVsIjogIkVYVEVSTkFMIiwgInJlY2lwaWVudEtleXMiOiBbIkFzeXNpV0U4eW9MU3JuaGt1RkdqcWlCU3I0NlVDaVdMVTlObnhDN2RtdXNvIl0sICJzZXJ2aWNlRW5kcG9pbnQiOiAiaHR0cHM6Ly8yNGZlZWU1ZTdkM2Eubmdyb2suaW8ifQ==\n",
      "\n",
      "  {'@type': 'did:sov:BzCbsNYhMrjHiqZDTUASHg;spec/connections/1.0/invitation', '@id': '84159887-f77d-46b3-9500-1d3e442726b9', 'label': 'EXTERNAL', 'recipientKeys': ['AsysiWE8yoLSrnhkuFGjqiBSr46UCiWLU9NnxC7dmuso'], 'serviceEndpoint': 'https://24feee5e7d3a.ngrok.io'}\n",
      "Connection message {'invitation_key': 'AsysiWE8yoLSrnhkuFGjqiBSr46UCiWLU9NnxC7dmuso', 'their_role': 'invitee', 'accept': 'auto', 'invitation_mode': 'once', 'their_did': 'V46MrHw2M8yaJVq8uCbgc3', 'created_at': '2021-03-11 19:23:46.917409Z', 'routing_state': 'none', 'rfc23_state': 'request-received', 'state': 'request', 'their_label': 'Yoma Opportunity Provider 1', 'updated_at': '2021-03-11 19:24:16.436612Z', 'connection_id': 'ddf44da2-4da9-4dc9-a5d5-3e765f43e63b'} ddf44da2-4da9-4dc9-a5d5-3e765f43e63b\n",
      "Connection message {'invitation_key': 'AsysiWE8yoLSrnhkuFGjqiBSr46UCiWLU9NnxC7dmuso', 'their_role': 'invitee', 'accept': 'auto', 'invitation_mode': 'once', 'their_did': 'V46MrHw2M8yaJVq8uCbgc3', 'created_at': '2021-03-11 19:23:46.917409Z', 'routing_state': 'none', 'rfc23_state': 'request-received', 'state': 'request', 'their_label': 'Yoma Opportunity Provider 1', 'updated_at': '2021-03-11 19:24:16.436612Z', 'connection_id': 'ddf44da2-4da9-4dc9-a5d5-3e765f43e63b'} ddf44da2-4da9-4dc9-a5d5-3e765f43e63b\n",
      "Connection message {'my_did': 'HgNPGigZAw4DgS7zmCb9E', 'invitation_key': 'AsysiWE8yoLSrnhkuFGjqiBSr46UCiWLU9NnxC7dmuso', 'their_role': 'invitee', 'accept': 'auto', 'invitation_mode': 'once', 'their_did': 'V46MrHw2M8yaJVq8uCbgc3', 'created_at': '2021-03-11 19:23:46.917409Z', 'routing_state': 'none', 'rfc23_state': 'response-sent', 'state': 'response', 'their_label': 'Yoma Opportunity Provider 1', 'updated_at': '2021-03-11 19:24:16.474235Z', 'connection_id': 'ddf44da2-4da9-4dc9-a5d5-3e765f43e63b'} ddf44da2-4da9-4dc9-a5d5-3e765f43e63b\n",
      "Connection message {'my_did': 'HgNPGigZAw4DgS7zmCb9E', 'invitation_key': 'AsysiWE8yoLSrnhkuFGjqiBSr46UCiWLU9NnxC7dmuso', 'their_role': 'invitee', 'accept': 'auto', 'invitation_mode': 'once', 'their_did': 'V46MrHw2M8yaJVq8uCbgc3', 'created_at': '2021-03-11 19:23:46.917409Z', 'routing_state': 'none', 'rfc23_state': 'response-sent', 'state': 'response', 'their_label': 'Yoma Opportunity Provider 1', 'updated_at': '2021-03-11 19:24:16.474235Z', 'connection_id': 'ddf44da2-4da9-4dc9-a5d5-3e765f43e63b'} ddf44da2-4da9-4dc9-a5d5-3e765f43e63b\n",
      "Connection message {'my_did': 'HgNPGigZAw4DgS7zmCb9E', 'invitation_key': 'AsysiWE8yoLSrnhkuFGjqiBSr46UCiWLU9NnxC7dmuso', 'their_role': 'invitee', 'accept': 'auto', 'invitation_mode': 'once', 'their_did': 'V46MrHw2M8yaJVq8uCbgc3', 'created_at': '2021-03-11 19:23:46.917409Z', 'routing_state': 'none', 'rfc23_state': 'completed', 'state': 'active', 'their_label': 'Yoma Opportunity Provider 1', 'updated_at': '2021-03-11 19:24:17.853057Z', 'connection_id': 'ddf44da2-4da9-4dc9-a5d5-3e765f43e63b'} ddf44da2-4da9-4dc9-a5d5-3e765f43e63b\n",
      "\u001b[1m\u001b[31mConnection ddf44da2-4da9-4dc9-a5d5-3e765f43e63b changed state to active\u001b[0m\n",
      "Connection message {'my_did': 'HgNPGigZAw4DgS7zmCb9E', 'invitation_key': 'AsysiWE8yoLSrnhkuFGjqiBSr46UCiWLU9NnxC7dmuso', 'their_role': 'invitee', 'accept': 'auto', 'invitation_mode': 'once', 'their_did': 'V46MrHw2M8yaJVq8uCbgc3', 'created_at': '2021-03-11 19:23:46.917409Z', 'routing_state': 'none', 'rfc23_state': 'completed', 'state': 'active', 'their_label': 'Yoma Opportunity Provider 1', 'updated_at': '2021-03-11 19:24:17.853057Z', 'connection_id': 'ddf44da2-4da9-4dc9-a5d5-3e765f43e63b'} ddf44da2-4da9-4dc9-a5d5-3e765f43e63b\n",
      "\u001b[1m\u001b[31mConnection ddf44da2-4da9-4dc9-a5d5-3e765f43e63b changed state to active\u001b[0m\n"
     ]
    }
   ],
   "source": [
    "# Create Invitation\n",
    "invite = await agent_controller.connections.create_invitation()\n",
    "connection_id = invite[\"connection_id\"]\n",
    "print(\"Connection ID\", connection_id)\n",
    "print(\"Invitation\")\n",
    "print(invite['invitation_url'])\n",
    "inviteURL = invite['invitation_url']\n",
    "invitation = invite['invitation']\n",
    "print('\\n ',invitation)"
   ]
  },
  {
   "cell_type": "markdown",
   "metadata": {},
   "source": [
    "## 8c. Generate QR Code to be scanned with Mobile SSI Wallet"
   ]
  },
  {
   "cell_type": "code",
   "execution_count": 29,
   "metadata": {},
   "outputs": [
    {
     "data": {
      "image/png": "[encoded data removed]",
      "text/plain": [
       "<IPython.core.display.Image object>"
      ]
     },
     "execution_count": 29,
     "metadata": {
      "image/png": {
       "width": 400
      }
     },
     "output_type": "execute_result"
    }
   ],
   "source": [
    "import qrcode\n",
    "# Link for connection invitation\n",
    "input_data = inviteURL\n",
    "# Creating an instance of qrcode\n",
    "qr = qrcode.QRCode(\n",
    "        version=1,\n",
    "        box_size=10,\n",
    "        border=5)\n",
    "qr.add_data(input_data)\n",
    "qr.make(fit=True)\n",
    "img = qr.make_image(fill='black', back_color='white')\n",
    "img.save('issuer_agent_invite_QRcode.png')\n",
    "\n",
    "from IPython.display import Image\n",
    "Image(width=400, filename='./issuer_agent_invite_QRcode.png')"
   ]
  },
  {
   "cell_type": "markdown",
   "metadata": {},
   "source": [
    "## 8d. Check if established connection is in active state"
   ]
  },
  {
   "cell_type": "code",
   "execution_count": 20,
   "metadata": {},
   "outputs": [
    {
     "name": "stdout",
     "output_type": "stream",
     "text": [
      "\u001b[1m\u001b[35mCurrent state for ConnectionId 961f9af8-c9ed-4fc4-9866-6b00d48fdaa8 is active\u001b[0m\n",
      "\u001b[1m\u001b[32mConnectionId: 961f9af8-c9ed-4fc4-9866-6b00d48fdaa8 is now active. Continue with notebook\u001b[0m\n"
     ]
    }
   ],
   "source": [
    "import time\n",
    "\n",
    "# print('Current state for ConnectionId {} is {}'.format(connection_id,STATE))\n",
    "print(colored(\"Current state for ConnectionId {} is {}\".format(connection_id,STATE), \"magenta\", attrs=[\"bold\"]))\n",
    "while STATE != 'active':\n",
    "#     print('ConnectionId {0} is not in active state yet'.format(connection_id))\n",
    "    print(colored(\"ConnectionId {0} is not in active state yet\".format(connection_id), \"yellow\", attrs=[\"bold\"]))\n",
    "    trust_ping = await agent_controller.messaging.trust_ping(connection_id,'hello!')\n",
    "#     print('Trust ping send to ConnectionId {0} to activate connection'.format(trust_ping))\n",
    "    print(colored(\"Trust ping send to ConnectionId {0} to activate connection\".format(trust_ping), \"blue\", attrs=[\"bold\"]))\n",
    "    time.sleep(5)\n",
    "    \n",
    "# print('ConnectionId: {0} is now active. Continue with notebook'.format(connection_id))\n",
    "print(colored(\"ConnectionId: {0} is now active. Continue with notebook\".format(connection_id), \"green\", attrs=[\"bold\"]))\n"
   ]
  },
  {
   "cell_type": "markdown",
   "metadata": {},
   "source": [
    "## 9. Send Credential\n",
    "\n",
    "This sends a credential to a identity holder (User), and automates the rest of the protocol.\n",
    "\n",
    "There are other ways to issue a credential that require multiple api calls.\n",
    "\n",
    "**Arguments**\n",
    "* connection_id: The connection_id of the holder you wish to issue to (MUST be in active state)\n",
    "* schema_id: The id of the schema you wish to issue\n",
    "* cred_def_id: The definition (public key) to sign the credential object. This must refer to the schema_id and be written to the ledger by the same public did that is currently being used by the agent.\n",
    "* attributes: A list of attribute objects as defined above. Must match the schema attributes.\n",
    "* comment (optional): Any string, defaults to \"\"\n",
    "* auto_remove (optional): Boolean, defaults to True. I believe this removes the record of this credential once it has been issued. (TODO: double check)\n",
    "* trace (optional): Boolean, defaults to False. **Not entirely sure about this one, believe its for logging. Also when set to True it throws an error**"
   ]
  },
  {
   "cell_type": "code",
   "execution_count": 28,
   "metadata": {},
   "outputs": [
    {
     "name": "stdout",
     "output_type": "stream",
     "text": [
      "Credential exchange 0f864db4-ab13-4e25-98b8-ab5f3a9691fe, role: issuer, state: offer_sent\n",
      "Handle Credentials\n",
      "Credential exchange 0f864db4-ab13-4e25-98b8-ab5f3a9691fe, role: issuer, state: offer_sent\n",
      "Offering: [{'name': 'orgname', 'value': 'DIDx'}, {'name': 'op_type', 'value': 'learning'}, {'name': 'url', 'value': 'www.didx.co.za'}]\n",
      "Handle Credentials\n",
      "Credential exchange 0f864db4-ab13-4e25-98b8-ab5f3a9691fe, role: issuer, state: offer_sent\n",
      "Offering: [{'name': 'orgname', 'value': 'DIDx'}, {'name': 'op_type', 'value': 'learning'}, {'name': 'url', 'value': 'www.didx.co.za'}]\n",
      "Handle Credentials\n",
      "Credential exchange 0f864db4-ab13-4e25-98b8-ab5f3a9691fe, role: issuer, state: request_received\n",
      "Offering: [{'name': 'orgname', 'value': 'DIDx'}, {'name': 'op_type', 'value': 'learning'}, {'name': 'url', 'value': 'www.didx.co.za'}]\n",
      "Handle Credentials\n",
      "Credential exchange 0f864db4-ab13-4e25-98b8-ab5f3a9691fe, role: issuer, state: request_received\n",
      "Offering: [{'name': 'orgname', 'value': 'DIDx'}, {'name': 'op_type', 'value': 'learning'}, {'name': 'url', 'value': 'www.didx.co.za'}]\n",
      "Handle Credentials\n",
      "Credential exchange 0f864db4-ab13-4e25-98b8-ab5f3a9691fe, role: issuer, state: credential_issued\n",
      "Offering: [{'name': 'orgname', 'value': 'DIDx'}, {'name': 'op_type', 'value': 'learning'}, {'name': 'url', 'value': 'www.didx.co.za'}]\n",
      "Handle Credentials\n",
      "Credential exchange 0f864db4-ab13-4e25-98b8-ab5f3a9691fe, role: issuer, state: credential_issued\n",
      "Offering: [{'name': 'orgname', 'value': 'DIDx'}, {'name': 'op_type', 'value': 'learning'}, {'name': 'url', 'value': 'www.didx.co.za'}]\n",
      "Handle Credentials\n",
      "Credential exchange 0f864db4-ab13-4e25-98b8-ab5f3a9691fe, role: issuer, state: credential_acked\n",
      "Offering: [{'name': 'orgname', 'value': 'DIDx'}, {'name': 'op_type', 'value': 'learning'}, {'name': 'url', 'value': 'www.didx.co.za'}]\n",
      "Handle Credentials\n",
      "Credential exchange 0f864db4-ab13-4e25-98b8-ab5f3a9691fe, role: issuer, state: credential_acked\n",
      "Offering: [{'name': 'orgname', 'value': 'DIDx'}, {'name': 'op_type', 'value': 'learning'}, {'name': 'url', 'value': 'www.didx.co.za'}]\n"
     ]
    }
   ],
   "source": [
    "record = await agent_controller.issuer.send_credential(connection_id, schema_id, cred_def_id, credential_attributes, trace=False)\n",
    "record_id = record['credential_exchange_id']\n",
    "state = record['state']\n",
    "role = record['role']\n",
    "print(f\"Credential exchange {record_id}, role: {role}, state: {state}\")\n"
   ]
  },
  {
   "cell_type": "markdown",
   "metadata": {},
   "source": [
    "## 10. Accept credential in Mobile SSI Wallet"
   ]
  },
  {
   "cell_type": "markdown",
   "metadata": {},
   "source": [
    "## 11. End of Tutorial\n",
    "\n",
    "Be sure to terminate the controller so you can run another tutorial."
   ]
  },
  {
   "cell_type": "code",
   "execution_count": null,
   "metadata": {},
   "outputs": [],
   "source": [
    "response = await agent_controller.terminate()\n",
    "print(response)"
   ]
  },
  {
   "cell_type": "markdown",
   "metadata": {},
   "source": [
    "# Proceed to Part 4 on [Verifier Notebook](http://localhost:8889/notebooks/Part%204%20-%20Verify%20a%20Presentation.ipynb)\n",
    "\n",
    "Here you will present the attributes issued to you within this tutorial to a verifying entity."
   ]
  },
  {
   "cell_type": "code",
   "execution_count": null,
   "metadata": {},
   "outputs": [],
   "source": []
  }
 ],
 "metadata": {
  "kernelspec": {
   "display_name": "Python 3",
   "language": "python",
   "name": "python3"
  },
  "language_info": {
   "codemirror_mode": {
    "name": "ipython",
    "version": 3
   },
   "file_extension": ".py",
   "mimetype": "text/x-python",
   "name": "python",
   "nbconvert_exporter": "python",
   "pygments_lexer": "ipython3",
   "version": "3.8.5"
  }
 },
 "nbformat": 4,
 "nbformat_minor": 1
}
